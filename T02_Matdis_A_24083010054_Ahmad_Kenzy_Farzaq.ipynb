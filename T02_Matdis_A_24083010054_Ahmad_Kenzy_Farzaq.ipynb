{
  "nbformat": 4,
  "nbformat_minor": 0,
  "metadata": {
    "colab": {
      "provenance": []
    },
    "kernelspec": {
      "name": "python3",
      "display_name": "Python 3"
    },
    "language_info": {
      "name": "python"
    }
  },
  "cells": [
    {
      "cell_type": "code",
      "source": [
        "# SOAL 2: 1 + 2 + 2² + 2³ + ... + 2ⁿ = 2^(n+1) - 1\n",
        "\n",
        "print(\"SOAL 2: 1 + 2 + 2² + 2³ + ... + 2ⁿ = 2^(n+1) - 1\")\n",
        "print()\n",
        "\n",
        "valid_n = []\n",
        "\n",
        "for n in range(-5, 21):\n",
        "    try:\n",
        "        # Untuk n < 0, deret tidak memiliki interpretasi standar\n",
        "        if n < 0:\n",
        "            valid = False\n",
        "        else:\n",
        "            # Hitung sisi kiri: jumlah 2^0 + 2^1 + ... + 2^n\n",
        "            sisi_kiri = sum(2**i for i in range(n + 1))\n",
        "\n",
        "            # Hitung sisi kanan: 2^(n+1) - 1\n",
        "            sisi_kanan = 2**(n + 1) - 1\n",
        "\n",
        "            valid = sisi_kiri == sisi_kanan\n",
        "\n",
        "        if valid:\n",
        "            valid_n.append(n)\n",
        "\n",
        "        print(f\"n = {n:3d}: {'Valid' if valid else 'Tidak valid'}\")\n",
        "\n",
        "    except:\n",
        "        print(f\"n = {n:3d}: Error\")"
      ],
      "metadata": {
        "colab": {
          "base_uri": "https://localhost:8080/"
        },
        "id": "GJHUVcvu60OS",
        "outputId": "d8995ce5-c616-4e81-b36b-3ea53af1c2ea"
      },
      "execution_count": null,
      "outputs": [
        {
          "output_type": "stream",
          "name": "stdout",
          "text": [
            "SOAL 2: 1 + 2 + 2² + 2³ + ... + 2ⁿ = 2^(n+1) - 1\n",
            "\n",
            "n =  -5: Tidak valid\n",
            "n =  -4: Tidak valid\n",
            "n =  -3: Tidak valid\n",
            "n =  -2: Tidak valid\n",
            "n =  -1: Tidak valid\n",
            "n =   0: Valid\n",
            "n =   1: Valid\n",
            "n =   2: Valid\n",
            "n =   3: Valid\n",
            "n =   4: Valid\n",
            "n =   5: Valid\n",
            "n =   6: Valid\n",
            "n =   7: Valid\n",
            "n =   8: Valid\n",
            "n =   9: Valid\n",
            "n =  10: Valid\n",
            "n =  11: Valid\n",
            "n =  12: Valid\n",
            "n =  13: Valid\n",
            "n =  14: Valid\n",
            "n =  15: Valid\n",
            "n =  16: Valid\n",
            "n =  17: Valid\n",
            "n =  18: Valid\n",
            "n =  19: Valid\n",
            "n =  20: Valid\n"
          ]
        }
      ]
    },
    {
      "cell_type": "markdown",
      "source": [
        "Jangka n yang valid: [0, 1, 2, 3, 4, 5, 6, 7, 8, 9, 10, 11, 12, 13, 14, 15, 16, 17, 18, 19, 20]\n",
        "\n",
        "JAWABAN: n ≥ 0 (bilangan bulat non-negatif)"
      ],
      "metadata": {
        "id": "KRg-eWFX8jqz"
      }
    },
    {
      "cell_type": "code",
      "source": [
        "# SOAL 5: 2ⁿ > n²\n",
        "\n",
        "print(\"SOAL 5: 2ⁿ > n²\")\n",
        "print()\n",
        "\n",
        "valid_n = []\n",
        "\n",
        "for n in range(-10, 21):\n",
        "    try:\n",
        "        # Hitung 2^n\n",
        "        pangkat_2 = 2**n\n",
        "\n",
        "        # Hitung n²\n",
        "        kuadrat_n = n**2\n",
        "\n",
        "        # Cek apakah 2^n > n²\n",
        "        valid = pangkat_2 > kuadrat_n\n",
        "\n",
        "        if valid:\n",
        "            valid_n.append(n)\n",
        "\n",
        "        print(f\"n = {n:3d}: 2^{n} = {pangkat_2:8.4f}, n² = {kuadrat_n:3d} → {'Valid' if valid else 'Tidak valid'}\")\n",
        "\n",
        "    except:\n",
        "        print(f\"n = {n:3d}: Error\")"
      ],
      "metadata": {
        "colab": {
          "base_uri": "https://localhost:8080/"
        },
        "id": "Sjuu11lL7o6D",
        "outputId": "b61053ab-9306-41e3-a760-bd3ea992c331"
      },
      "execution_count": null,
      "outputs": [
        {
          "output_type": "stream",
          "name": "stdout",
          "text": [
            "SOAL 5: 2ⁿ > n²\n",
            "\n",
            "n = -10: 2^-10 =   0.0010, n² = 100 → Tidak valid\n",
            "n =  -9: 2^-9 =   0.0020, n² =  81 → Tidak valid\n",
            "n =  -8: 2^-8 =   0.0039, n² =  64 → Tidak valid\n",
            "n =  -7: 2^-7 =   0.0078, n² =  49 → Tidak valid\n",
            "n =  -6: 2^-6 =   0.0156, n² =  36 → Tidak valid\n",
            "n =  -5: 2^-5 =   0.0312, n² =  25 → Tidak valid\n",
            "n =  -4: 2^-4 =   0.0625, n² =  16 → Tidak valid\n",
            "n =  -3: 2^-3 =   0.1250, n² =   9 → Tidak valid\n",
            "n =  -2: 2^-2 =   0.2500, n² =   4 → Tidak valid\n",
            "n =  -1: 2^-1 =   0.5000, n² =   1 → Tidak valid\n",
            "n =   0: 2^0 =   1.0000, n² =   0 → Valid\n",
            "n =   1: 2^1 =   2.0000, n² =   1 → Valid\n",
            "n =   2: 2^2 =   4.0000, n² =   4 → Tidak valid\n",
            "n =   3: 2^3 =   8.0000, n² =   9 → Tidak valid\n",
            "n =   4: 2^4 =  16.0000, n² =  16 → Tidak valid\n",
            "n =   5: 2^5 =  32.0000, n² =  25 → Valid\n",
            "n =   6: 2^6 =  64.0000, n² =  36 → Valid\n",
            "n =   7: 2^7 = 128.0000, n² =  49 → Valid\n",
            "n =   8: 2^8 = 256.0000, n² =  64 → Valid\n",
            "n =   9: 2^9 = 512.0000, n² =  81 → Valid\n",
            "n =  10: 2^10 = 1024.0000, n² = 100 → Valid\n",
            "n =  11: 2^11 = 2048.0000, n² = 121 → Valid\n",
            "n =  12: 2^12 = 4096.0000, n² = 144 → Valid\n",
            "n =  13: 2^13 = 8192.0000, n² = 169 → Valid\n",
            "n =  14: 2^14 = 16384.0000, n² = 196 → Valid\n",
            "n =  15: 2^15 = 32768.0000, n² = 225 → Valid\n",
            "n =  16: 2^16 = 65536.0000, n² = 256 → Valid\n",
            "n =  17: 2^17 = 131072.0000, n² = 289 → Valid\n",
            "n =  18: 2^18 = 262144.0000, n² = 324 → Valid\n",
            "n =  19: 2^19 = 524288.0000, n² = 361 → Valid\n",
            "n =  20: 2^20 = 1048576.0000, n² = 400 → Valid\n"
          ]
        }
      ]
    },
    {
      "cell_type": "markdown",
      "source": [
        "Jangka n yang valid: [0, 1, 5, 6, 7, 8, 9, 10, 11, 12, 13, 14, 15, 16, 17, 18, 19, 20]\n",
        "\n",
        "Rentang yang valid:\n",
        "JAWABAN: n ∈ [0, 1] dan n ∈ [5, 20]"
      ],
      "metadata": {
        "id": "kvLMoh3p8KQL"
      }
    }
  ]
}